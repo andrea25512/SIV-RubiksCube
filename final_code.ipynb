{
 "cells": [
  {
   "cell_type": "code",
   "execution_count": null,
   "metadata": {},
   "outputs": [],
   "source": [
    "from skimage import img_as_float\n",
    "import matplotlib.pyplot as plt\n",
    "import numpy as np\n",
    "\n",
    "def imshow_all(*images, titles=None):\n",
    "    images = [img_as_float(img) for img in images]\n",
    "\n",
    "    if titles is None:\n",
    "        titles = [''] * len(images)\n",
    "    vmin = min(map(np.min, images))\n",
    "    vmax = max(map(np.max, images))\n",
    "    ncols = len(images)\n",
    "    height = 10\n",
    "    width = height * len(images)\n",
    "    fig, axes = plt.subplots(nrows=1, ncols=ncols,\n",
    "                             figsize=(width, height))\n",
    "    for ax, img, label in zip(axes.ravel(), images, titles):\n",
    "        ax.imshow(img, vmin=vmin, vmax=vmax,cmap=\"gray\")\n",
    "        ax.set_title(label)"
   ]
  },
  {
   "cell_type": "code",
   "execution_count": null,
   "metadata": {},
   "outputs": [],
   "source": [
    "import cv2\n",
    "\n",
    "import random as rng\n",
    "from scipy import ndimage as ndi\n",
    "\n",
    "input_image = cv2.imread('images/square6.jpg')\n",
    "black_back_image = 255 - input_image\n",
    "\n",
    "blue, green, red = cv2.split(black_back_image)\n",
    "\n",
    "# high pass per il colore rosso -> evidenziazione dei bordi della immagine \n",
    "blur = cv2.GaussianBlur(red, (9,9), 0)\n",
    "high_pass = cv2.subtract(red, blur)\n",
    "high_pass = cv2.convertScaleAbs(high_pass, alpha = 3.0)\n",
    "# combinazione high pass con l'immagine originale rossa\n",
    "red = cv2.add(red, high_pass)\n",
    "\n",
    "# high pass per il colore blu -> evidenziazione dei bordi della immagine \n",
    "blur = cv2.GaussianBlur(blue, (9,9), 0)\n",
    "high_pass = cv2.subtract(blue, blur)\n",
    "high_pass = cv2.convertScaleAbs(high_pass, alpha = 3.0)\n",
    "# combinazione high pass con l'immagine originale blu\n",
    "blue = cv2.add(blue, high_pass)\n",
    "\n",
    "# high pass per il colore verde -> evidenziazione dei bordi della immagine \n",
    "blur = cv2.GaussianBlur(green, (9,9), 0)\n",
    "high_pass = cv2.subtract(green, blur)\n",
    "high_pass = cv2.convertScaleAbs(high_pass, alpha = 3.0)\n",
    "# combinazione high pass con l'immagine originale verde\n",
    "green = cv2.add(green, high_pass)\n",
    "\n",
    "\n",
    "plt.figure(figsize=(8, 8))\n",
    "\n",
    "# Prima immagine\n",
    "plt.subplot(2, 2, 1)\n",
    "plt.imshow(cv2.cvtColor(input_image, cv2.COLOR_BGR2RGB))\n",
    "plt.title('Origin')\n",
    "plt.axis('off')\n",
    "\n",
    "# Seconda immagine\n",
    "plt.subplot(2, 2, 2)\n",
    "plt.imshow(red, cmap='Reds')\n",
    "plt.title('Red')\n",
    "plt.axis('off')\n",
    "\n",
    "# Terza immagine\n",
    "plt.subplot(2, 2, 3)\n",
    "plt.imshow(blue, cmap='Blues')\n",
    "plt.title('Blue')\n",
    "plt.axis('off')\n",
    "\n",
    "# Quarta immagine\n",
    "plt.subplot(2, 2, 4)\n",
    "plt.imshow(green, cmap='Greens')\n",
    "plt.title('Green')\n",
    "plt.axis('off')\n",
    "\n",
    "plt.tight_layout()  # Aggiunge spaziatura tra le immagini per una migliore visualizzazione\n",
    "plt.show()"
   ]
  },
  {
   "cell_type": "code",
   "execution_count": null,
   "metadata": {},
   "outputs": [],
   "source": [
    "# Unione dei colori\n",
    "from skimage.morphology import square\n",
    "from skimage import filters\n",
    "\n",
    "HP_gray_image = 255 - cv2.cvtColor(cv2.merge([blue, green, red],), cv2.COLOR_BGR2GRAY) # immagine High Pass in B/W\n",
    "plt.imshow(HP_gray_image,cmap=\"gray\")"
   ]
  },
  {
   "cell_type": "code",
   "execution_count": null,
   "metadata": {},
   "outputs": [],
   "source": [
    "adaptive_gaussian = cv2.adaptiveThreshold(HP_gray_image, 255, cv2.ADAPTIVE_THRESH_GAUSSIAN_C, cv2.THRESH_BINARY, 9, 7) "
   ]
  },
  {
   "cell_type": "code",
   "execution_count": null,
   "metadata": {},
   "outputs": [],
   "source": [
    "resized = cv2.resize(adaptive_gaussian, (300, 300), interpolation = cv2.INTER_AREA)"
   ]
  },
  {
   "cell_type": "code",
   "execution_count": null,
   "metadata": {},
   "outputs": [],
   "source": [
    "smooth = filters.gaussian(resized, sigma=2)\n",
    "plt.imshow(smooth,cmap=\"gray\")"
   ]
  },
  {
   "cell_type": "code",
   "execution_count": null,
   "metadata": {},
   "outputs": [],
   "source": [
    "smooth *= 255/smooth.max() \n",
    "smooth = np.array(smooth, np.uint8)\n",
    "\n",
    "\n",
    "lower = 10\n",
    "upper = lower*3\n",
    "canny = cv2.Canny(smooth,lower,upper)\n",
    "plt.imshow(canny,cmap=\"gray\")"
   ]
  },
  {
   "cell_type": "code",
   "execution_count": null,
   "metadata": {},
   "outputs": [],
   "source": [
    "kernel = np.ones((3,3),np.uint8)\n",
    "dilatated = cv2.dilate(canny,kernel,iterations = 1)\n",
    "plt.imshow(dilatated,cmap=\"gray\")"
   ]
  },
  {
   "cell_type": "code",
   "execution_count": null,
   "metadata": {},
   "outputs": [],
   "source": [
    "thickness = 50\n",
    "\n",
    "cv2.line(dilatated, (0,0), (0,300), (0,0,0), thickness)\n",
    "cv2.line(dilatated, (0,300), (300,300), (0,0,0), thickness)\n",
    "cv2.line(dilatated, (300,300), (300,0), (0,0,0), thickness)\n",
    "cv2.line(dilatated, (300,0), (0,0), (0,0,0), thickness)\n",
    "\n",
    "plt.imshow(dilatated,cmap=\"gray\")"
   ]
  },
  {
   "cell_type": "code",
   "execution_count": null,
   "metadata": {},
   "outputs": [],
   "source": [
    "seed_point = (0, 0)\n",
    "new_color = (255,255,255)\n",
    "\n",
    "cv2.floodFill(dilatated, None, seed_point, new_color)\n",
    "\n",
    "plt.imshow(dilatated,cmap=\"gray\")"
   ]
  },
  {
   "cell_type": "code",
   "execution_count": null,
   "metadata": {},
   "outputs": [],
   "source": [
    "contours, _ = cv2.findContours(255-dilatated, cv2.RETR_EXTERNAL, cv2.CHAIN_APPROX_SIMPLE)\n",
    "min_area = 22\n",
    "filtered_image = np.zeros_like(dilatated)\n",
    "for contour in contours:\n",
    "    area = cv2.contourArea(contour)\n",
    "    if area >= min_area:\n",
    "        cv2.drawContours(filtered_image, [contour], -1, 255, thickness=cv2.FILLED)\n",
    "\n",
    "plt.imshow(filtered_image,cmap=\"gray\")"
   ]
  },
  {
   "cell_type": "code",
   "execution_count": null,
   "metadata": {},
   "outputs": [],
   "source": [
    "kernel = np.ones((5,5),np.uint8)\n",
    "erosion = cv2.dilate(filtered_image,kernel,iterations = 5)\n",
    "plt.imshow(erosion,cmap=\"gray\")"
   ]
  },
  {
   "cell_type": "code",
   "execution_count": null,
   "metadata": {},
   "outputs": [],
   "source": [
    "tmp = cv2.resize(input_image, (300, 300), interpolation = cv2.INTER_AREA)\n",
    "result_image = cv2.bitwise_and(tmp, tmp, mask=erosion)\n",
    "plt.imshow(cv2.cvtColor(result_image, cv2.COLOR_BGR2RGB))"
   ]
  },
  {
   "cell_type": "code",
   "execution_count": null,
   "metadata": {},
   "outputs": [],
   "source": [
    "contours, _ = cv2.findContours(erosion, cv2.RETR_EXTERNAL, cv2.CHAIN_APPROX_SIMPLE)\n",
    "print(f\"Numero di contorni trovati: {len(contours)}\")\n",
    "print(f\"Area = {cv2.contourArea(contours[0])}\")\n",
    "\n",
    "tmp = cv2.cvtColor(np.zeros_like(erosion),cv2.COLOR_GRAY2RGB)\n",
    "cv2.drawContours(tmp, contours, -1, (0, 255, 0), thickness = 3)\n",
    "plt.imshow(cv2.cvtColor(tmp, cv2.COLOR_BGR2RGB))"
   ]
  },
  {
   "cell_type": "code",
   "execution_count": null,
   "metadata": {},
   "outputs": [],
   "source": [
    "hull = cv2.convexHull(contours[0])\n",
    "cv2.drawContours(tmp, [hull], -1, 255, thickness = 2)\n",
    "plt.imshow(cv2.cvtColor(tmp, cv2.COLOR_BGR2RGB))"
   ]
  },
  {
   "cell_type": "code",
   "execution_count": null,
   "metadata": {},
   "outputs": [],
   "source": [
    "epsilon = 0.02 * cv2.arcLength(hull, True)\n",
    "approx_polygon = cv2.approxPolyDP(hull, epsilon, True)\n",
    "tmp = cv2.cvtColor(np.zeros_like(erosion),cv2.COLOR_GRAY2RGB)\n",
    "cv2.drawContours(tmp, [approx_polygon], -1, (255,255,255), thickness = 1)\n",
    "plt.imshow(cv2.cvtColor(tmp, cv2.COLOR_BGR2RGB))"
   ]
  },
  {
   "cell_type": "code",
   "execution_count": null,
   "metadata": {},
   "outputs": [],
   "source": [
    "sorted_vertices = sorted(approx_polygon, key=lambda point: point[0][1])\n",
    "\n",
    "tmp = cv2.resize(input_image, (300, 300), interpolation = cv2.INTER_AREA)\n",
    "cv2.drawContours(tmp, [approx_polygon], -1, (0, 0, 255), thickness = 3)\n",
    "y_top_0 = int((sorted_vertices[2][0][0] + sorted_vertices[1][0][0])/2)\n",
    "y_top_1 = int((sorted_vertices[2][0][1] + sorted_vertices[1][0][1])/2)\n",
    "\n",
    "y_bottom_0 = int((sorted_vertices[-2][0][0] + sorted_vertices[-3][0][0])/2)\n",
    "y_bottom_1 = int((sorted_vertices[-2][0][1] + sorted_vertices[-3][0][1])/2)\n",
    "\n",
    "vertical_side_length = y_bottom_1 - y_top_1\n",
    "print(f\"Lunghezza dei lati verticali esterni dell'esagono: {vertical_side_length}\")\n",
    "\n",
    "lowest_vertex = sorted_vertices[-1][0]\n",
    "print(f\"Vertice più basso dell'esagono: {lowest_vertex}\")\n",
    "\n",
    "center = (lowest_vertex[0], lowest_vertex[1] - int(vertical_side_length))\n",
    "\n",
    "cv2.circle(tmp, center, 5, 255, thickness=cv2.FILLED)\n",
    "plt.imshow(cv2.cvtColor(tmp, cv2.COLOR_BGR2RGB))"
   ]
  },
  {
   "cell_type": "code",
   "execution_count": null,
   "metadata": {},
   "outputs": [],
   "source": [
    "cv2.line(tmp, lowest_vertex, center, (0, 255, 0), thickness = 3)\n",
    "cv2.line(tmp, sorted_vertices[1][0], center, (0, 255, 0), thickness = 3)\n",
    "cv2.line(tmp, sorted_vertices[2][0], center, (0, 255, 0), thickness = 3)\n",
    "\n",
    "plt.imshow(cv2.cvtColor(tmp, cv2.COLOR_BGR2RGB))"
   ]
  },
  {
   "cell_type": "code",
   "execution_count": null,
   "metadata": {},
   "outputs": [],
   "source": [
    "dst_square_size = 500\n",
    "tmp = cv2.resize(input_image, (300, 300), interpolation = cv2.INTER_AREA)\n",
    "dst_coordinates = np.array([[0, 0], [dst_square_size - 1, 0], [dst_square_size - 1, dst_square_size - 1], [0, dst_square_size - 1]], dtype=np.float32)\n",
    "\n",
    "coordinates = np.array([sorted_vertices[0][0], sorted_vertices[1][0], center, sorted_vertices[2][0]], dtype=np.float32)\n",
    "src_coordinates = np.array(coordinates, dtype=np.float32)\n",
    "perspective_matrix = cv2.getPerspectiveTransform(src_coordinates, dst_coordinates)\n",
    "result_image1 = cv2.warpPerspective(tmp, perspective_matrix, (dst_square_size, dst_square_size))\n",
    "\n",
    "sorted_vertices2 = sorted(approx_polygon.tolist(), key=lambda vertex: vertex[0])\n",
    "coordinates = np.array([ center, sorted_vertices2[1][0], center, sorted_vertices[0][0]], dtype=np.float32)\n",
    "src_coordinates = np.array(coordinates, dtype=np.float32)\n",
    "perspective_matrix = cv2.getPerspectiveTransform(src_coordinates, dst_coordinates)\n",
    "result_image2 = cv2.warpPerspective(tmp, perspective_matrix, (dst_square_size, dst_square_size))\n",
    "\n",
    "\n",
    "imshow_all(result_image1,result_image2)"
   ]
  }
 ],
 "metadata": {
  "kernelspec": {
   "display_name": "Python 3",
   "language": "python",
   "name": "python3"
  },
  "language_info": {
   "codemirror_mode": {
    "name": "ipython",
    "version": 3
   },
   "file_extension": ".py",
   "mimetype": "text/x-python",
   "name": "python",
   "nbconvert_exporter": "python",
   "pygments_lexer": "ipython3",
   "version": "3.10.12"
  }
 },
 "nbformat": 4,
 "nbformat_minor": 2
}
